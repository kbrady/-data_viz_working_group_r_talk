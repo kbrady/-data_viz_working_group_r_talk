{
 "cells": [
  {
   "cell_type": "markdown",
   "metadata": {
    "slideshow": {
     "slide_type": "slide"
    }
   },
   "source": [
    "# Setup Steps\n",
    "\n",
    "1. Open RStudio on your machine or choose RStudio from the \"New\" dropdown menu on ACCRE (it is the last option)\n",
    "2. Run `install.packages(\"ggplot2\")` and `install.packages(\"png\")` in RStudio\n",
    "3. If using ACCRE, upload this notebook, the `Metro_Nashville_Public_Schools_Enrollment_and_Demographics.csv` csv file, and the `nashville_map.png` image\n",
    "4. At this point all the cells should run\n",
    "    - You will need to go through them in order, as some refer to previous outputs"
   ]
  },
  {
   "cell_type": "code",
   "execution_count": null,
   "metadata": {
    "scrolled": false,
    "slideshow": {
     "slide_type": "slide"
    }
   },
   "outputs": [],
   "source": [
    "# load libraries\n",
    "\n",
    "# need to install\n",
    "library(\"ggplot2\") # visualization library\n",
    "library(\"png\") # library to read png images\n",
    "\n",
    "# come pre-installed\n",
    "library(\"plyr\") # \n",
    "library(\"repr\") # to set plot dimensions\n",
    "options(repr.plot.width=10, repr.plot.height=6)"
   ]
  },
  {
   "cell_type": "markdown",
   "metadata": {
    "slideshow": {
     "slide_type": "slide"
    }
   },
   "source": [
    "# [Grammar of Graphics](http://vita.had.co.nz/papers/layered-grammar.pdf)\n",
    "[**R**](https://www.r-project.org) is a programming language written by and for academics. Thus, many libraries in R have an underpinning theory. For [ggplot2](https://github.com/tidyverse/ggplot2) that theory is the Grammar of Graphics.\n",
    "\n",
    "You can purchase the full Grammar of Graphics book [here](https://www.amazon.com/Grammar-Graphics-Statistics-Computing/dp/0387245448/ref=as_li_ss_tl?ie=UTF8&qid=1477928463&sr=8-1&keywords=the+grammar+of+graphics&linkCode=sl1&tag=ggplot2-20&linkId=f0130e557161b83fbe97ba0e9175c431)\n",
    "\n",
    "For some other great tutorials follow the links below:\n",
    "- [Andrew Zieffler](https://www.dataplusscience.com/files/ggplot%20and%20violin%20plot.pdf)\n",
    "- [Data Visualization with ggplot2](https://www.datacamp.com/courses/data-visualization-with-ggplot2-part-1)\n",
    "- [ggplot2 open source book](https://github.com/hadley/ggplot2-book)\n",
    "- [Examples of cool visualizations in R](https://www.r-graph-gallery.com)"
   ]
  },
  {
   "cell_type": "markdown",
   "metadata": {
    "slideshow": {
     "slide_type": "slide"
    }
   },
   "source": [
    "## Core Elements\n",
    "\n",
    "### Data\n",
    "Dataset being plotted\n",
    "\n",
    "### Aesthetics\n",
    "Scales onto which we map our data\n",
    "\n",
    "### Geometries\n",
    "Visual elements used\n",
    "\n",
    "-----------"
   ]
  },
  {
   "cell_type": "markdown",
   "metadata": {
    "slideshow": {
     "slide_type": "subslide"
    }
   },
   "source": [
    "### Data\n",
    "Dataset being plotted\n",
    "\n",
    "- variables of interest"
   ]
  },
  {
   "cell_type": "markdown",
   "metadata": {
    "slideshow": {
     "slide_type": "subslide"
    }
   },
   "source": [
    "### Aesthetics\n",
    "Scales onto which we map our data\n",
    "\n",
    "- axis\n",
    "    - x-axis\n",
    "    - y-axis\n",
    "- color\n",
    "    - fill\n",
    "    - border\n",
    "    - alpha\n",
    "- size\n",
    "- labels\n",
    "- shape\n",
    "- lines\n",
    "    - width\n",
    "    - type"
   ]
  },
  {
   "cell_type": "markdown",
   "metadata": {
    "slideshow": {
     "slide_type": "subslide"
    }
   },
   "source": [
    "### Geometries\n",
    "Visual elements used\n",
    "\n",
    "- point\n",
    "    - scatter plot\n",
    "    - dotplot\n",
    "- line\n",
    "    - line chart\n",
    "    - best fit plotting\n",
    "- area\n",
    "    - histogram\n",
    "    - bar chart\n",
    "    - pie chart"
   ]
  },
  {
   "cell_type": "markdown",
   "metadata": {
    "slideshow": {
     "slide_type": "slide"
    }
   },
   "source": [
    "[Metro Nashville school data](https://data.nashville.gov/browse?category=Education)"
   ]
  },
  {
   "cell_type": "code",
   "execution_count": null,
   "metadata": {
    "scrolled": false,
    "slideshow": {
     "slide_type": "subslide"
    }
   },
   "outputs": [],
   "source": [
    "# read in data downloaded from https://data.nashville.gov/browse?category=Education\n",
    "schools <- read.csv('Metro_Nashville_Public_Schools_Enrollment_and_Demographics.csv')\n",
    "\n",
    "# have a column with the total number of students in each school\n",
    "schools$Total <- schools$Male + schools$Female\n",
    "\n",
    "# zip codes should be a categorical, not numerical\n",
    "schools$Zip.Code <- as.factor(schools$Zip.Code)\n",
    "\n",
    "# order school types in a way that makes sense\n",
    "school_levels = c('Elementary School',\n",
    "                  'Middle School',\n",
    "                  'High School',\n",
    "                  'Charter',\n",
    "                  'Non-Traditional',\n",
    "                  'Non-Traditional - Hybrid',\n",
    "                  'Alternative Learning Center',\n",
    "                  'Special Education',\n",
    "                  'GATE Center',\n",
    "                  'Adult'\n",
    "                  )\n",
    "schools$School.Level <- factor(schools$School.Level, levels = school_levels)"
   ]
  },
  {
   "cell_type": "code",
   "execution_count": null,
   "metadata": {
    "scrolled": false,
    "slideshow": {
     "slide_type": "subslide"
    }
   },
   "outputs": [],
   "source": [
    "head(schools)"
   ]
  },
  {
   "cell_type": "markdown",
   "metadata": {
    "slideshow": {
     "slide_type": "slide"
    }
   },
   "source": [
    "Now let us define the data, aesthetic and geometry for a plot.\n",
    "\n",
    "We put these to together into a \"sentence\" by running `ggplot(data, aesthetic) + geometry`\n",
    "\n",
    "At the end, `+ coord_flip()` can be added to swap the x and y axis."
   ]
  },
  {
   "cell_type": "code",
   "execution_count": null,
   "metadata": {
    "scrolled": false,
    "slideshow": {
     "slide_type": "subslide"
    }
   },
   "outputs": [],
   "source": [
    "# set the data\n",
    "data <- schools #[schools$Total > 300, ]\n",
    "# choose the aesthetics\n",
    "aesthetic <- aes(x=School.Level)\n",
    "# set the geometry (sometimes we have to specify a statstic)\n",
    "geometry <- geom_bar(stat=\"count\") #, width=.1)\n",
    "\n",
    "ggplot(data, aesthetic) #+\n",
    "# geometry #+\n",
    "# geom_point(stat=\"count\", size=5) + \n",
    "# coord_flip()"
   ]
  },
  {
   "cell_type": "markdown",
   "metadata": {
    "slideshow": {
     "slide_type": "slide"
    }
   },
   "source": [
    "Turning to numerical data, let's see how many students attend each level of school in Nashville"
   ]
  },
  {
   "cell_type": "code",
   "execution_count": null,
   "metadata": {
    "scrolled": false,
    "slideshow": {
     "slide_type": "subslide"
    }
   },
   "outputs": [],
   "source": [
    "# use Nasvhille schools as data again\n",
    "data <- schools #[schools$School.Level %in% c(\"High School\", \"Elementary School\", \"Middle School\", \"Charter\"), ]\n",
    "\n",
    "# this time put the total number of students in each school on the x axis\n",
    "# use fill to indicate the type of school\n",
    "aesthetic <- aes(x=Total, fill=School.Level)\n",
    "\n",
    "# use the histogram geometry\n",
    "geometry <- geom_histogram(binwidth=100)\n",
    "# uncomment the line below to use dotplot \n",
    "# geometry <- geom_dotplot(aes(color=School.Level), binwidth=100, dotsize=.4, stackgroups=TRUE, binpositions=\"all\")\n",
    "\n",
    "# plot it\n",
    "ggplot(data, aesthetic) + geometry"
   ]
  },
  {
   "cell_type": "markdown",
   "metadata": {
    "slideshow": {
     "slide_type": "slide"
    }
   },
   "source": [
    "Now let's look at another way to plot that information by changing the geometry and aesthetics"
   ]
  },
  {
   "cell_type": "code",
   "execution_count": null,
   "metadata": {
    "scrolled": false,
    "slideshow": {
     "slide_type": "subslide"
    }
   },
   "outputs": [],
   "source": [
    "# use Nasvhille schools as data again\n",
    "data <- schools #[schools$School.Level %in% c(\"High School\", \"Elementary School\", \"Middle School\", \"Charter\"), ]\n",
    "\n",
    "# put the total number of students in each school on the x axis and the school type on the y axis\n",
    "aesthetic <- aes(x=School.Level, y=Total)\n",
    "\n",
    "# use the boxplot geometry\n",
    "geometry <- geom_boxplot()\n",
    "\n",
    "ggplot(data, aesthetic) + \n",
    "geometry + \n",
    "# geom_point(stat = \"identity\", alpha=.5) + # uncomment to show the values as points\n",
    "# geom_point(stat = \"summary\", fun.y = \"mean\", size=3, shape=\"square\", color=\"blue\") + # uncomment to show the mean as a blue square\n",
    "# geom_point(stat = \"summary\", fun.y = \"median\", shape=\"|\", size=10, color=\"red\") + # uncomment to show the median as a red line\n",
    "# swap the x and y axes\n",
    "coord_flip()"
   ]
  },
  {
   "cell_type": "markdown",
   "metadata": {
    "slideshow": {
     "slide_type": "slide"
    }
   },
   "source": [
    "Sometimes it is necessary to reformat data for different visualizations.\n",
    "\n",
    "In our original csv, each grade is a column, however to stack up counts from each grade we want to have each (school, grade) pair be a single row.\n",
    "\n",
    "This way we can look at where each grade goes to school by aggregating on grade instead of school.\n",
    "\n",
    "Let's look at an example where we figure out which grades each school type serves."
   ]
  },
  {
   "cell_type": "code",
   "execution_count": null,
   "metadata": {
    "scrolled": false,
    "slideshow": {
     "slide_type": "subslide"
    }
   },
   "outputs": [],
   "source": [
    "# make a list of the columns that start with \"Grade.\"\n",
    "grade_names <- lapply(\n",
    "    Filter(\n",
    "        function(x) { startsWith(x, \"Grade\") },\n",
    "        colnames(schools)), # go through each column\n",
    "    function(x) { substring(x, nchar(\"Grade.\")+1) })\n",
    "\n",
    "# make a function that makes a (school, grade) row\n",
    "getFrameForGrade <- function(grade_name) {\n",
    "    key <- paste(\"Grade.\", grade_name, sep=\"\")\n",
    "    grade_counts <- data.frame(schools[ , c(\"School.Level\", \"School.Name\", key)])\n",
    "    grade_counts$Grade <- grade_name\n",
    "    names(grade_counts)[names(grade_counts) == key] <- \"Students\"\n",
    "    return(grade_counts)\n",
    "}\n",
    "\n",
    "grade_info <- Reduce(rbind, lapply(grade_names, getFrameForGrade))\n",
    "\n",
    "# make sure the grades are plotted in the correct order\n",
    "grade_info$Grade <- factor(grade_info$Grade, levels = grade_names)\n",
    "\n",
    "# head(schools)\n",
    "head(grade_info)"
   ]
  },
  {
   "cell_type": "code",
   "execution_count": null,
   "metadata": {
    "scrolled": false,
    "slideshow": {
     "slide_type": "subslide"
    }
   },
   "outputs": [],
   "source": [
    "# use the grade_info as the data\n",
    "data <- grade_info #[complete.cases(grade_info), ]\n",
    "\n",
    "# map grade to the x axis, the number of students to the y axis, use the fill color to indicate the school level\n",
    "aesthetic <- aes(x=Grade, y=Students, fill=School.Level)\n",
    "\n",
    "# use the bar chart geometry\n",
    "geometry <- geom_bar(stat=\"sum\", position = \"stack\")\n",
    "\n",
    "# plot it\n",
    "ggplot(data, aesthetic) + geometry + coord_flip()"
   ]
  },
  {
   "cell_type": "markdown",
   "metadata": {
    "slideshow": {
     "slide_type": "slide"
    }
   },
   "source": [
    "## Optional Elements\n",
    "\n",
    "### Facets\n",
    "Plotting small multiples\n",
    "\n",
    "### Statistics\n",
    "Representations to aid understanding\n",
    "\n",
    "### Coordinates\n",
    "Space in which data is plotted\n",
    "\n",
    "### Themes\n",
    "Non-data ink\n",
    "\n",
    "----"
   ]
  },
  {
   "cell_type": "markdown",
   "metadata": {
    "slideshow": {
     "slide_type": "subslide"
    }
   },
   "source": [
    "### Facets\n",
    "Plotting small multiples\n",
    "\n",
    "- subplots\n",
    "    - columns\n",
    "    - rows"
   ]
  },
  {
   "cell_type": "markdown",
   "metadata": {
    "slideshow": {
     "slide_type": "subslide"
    }
   },
   "source": [
    "### Statistics\n",
    "Representations to aid understanding\n",
    "\n",
    "- descriptive\n",
    "    - mean\n",
    "    - median\n",
    "- inferential\n",
    "    - confidence interval\n",
    "- binning\n",
    "    - grouping\n",
    "    - bin shapes\n",
    "- smoothing\n",
    "    - curve fitting"
   ]
  },
  {
   "cell_type": "markdown",
   "metadata": {
    "slideshow": {
     "slide_type": "subslide"
    }
   },
   "source": [
    "### Coordinates\n",
    "Space in which data is plotted\n",
    "\n",
    "- coordinate systems\n",
    "    - cartesian\n",
    "    - polar\n",
    "    - spherical\n",
    "- fixed\n",
    "    - fixed ratio between axes (such as latitude and longitude)\n",
    "- limits\n",
    "    - edges of chart"
   ]
  },
  {
   "cell_type": "markdown",
   "metadata": {
    "slideshow": {
     "slide_type": "subslide"
    }
   },
   "source": [
    "### Themes\n",
    "Non-data ink\n",
    "\n",
    "- labels\n",
    "    - call outs\n",
    "    - captions\n",
    "- graphics\n",
    "    - icons\n",
    "- font"
   ]
  },
  {
   "cell_type": "markdown",
   "metadata": {
    "slideshow": {
     "slide_type": "slide"
    }
   },
   "source": [
    "Let's start with an example of how extra information and fixed coordinate ratios can be helpful."
   ]
  },
  {
   "cell_type": "code",
   "execution_count": null,
   "metadata": {
    "scrolled": false,
    "slideshow": {
     "slide_type": "subslide"
    }
   },
   "outputs": [],
   "source": [
    "# uncomment to load a map image and turn it into a geometry\n",
    "# map_imp <- readPNG('nashville_map.png')\n",
    "# map_plot <- annotation_raster(map_imp, ymin = min(schools$Latitude, na.rm=TRUE), ymax= max(schools$Latitude, na.rm=TRUE), xmin = min(schools$Longitude, na.rm=TRUE), xmax = max(schools$Longitude, na.rm=TRUE))\n",
    "\n",
    "# use the high schools as the data\n",
    "data <- schools[schools$School.Level %in% c(\"High School\"), ]\n",
    "\n",
    "# map latitude to the y axis and longitude to the x axis\n",
    "aesthetic <- aes(y=Latitude, x=Longitude)\n",
    "\n",
    "# make the plot\n",
    "ggplot(data, aesthetic) + \n",
    "# map_plot + # uncomment to add the map\n",
    "# coord_fixed() + # uncomment to fix the coordinates\n",
    "# ggtitle(\"Where Nashville Goes to School\") + # uncomment to add a title\n",
    "geom_point(color=\"red\", size=5)"
   ]
  },
  {
   "cell_type": "markdown",
   "metadata": {
    "slideshow": {
     "slide_type": "slide"
    }
   },
   "source": [
    "Can we encode some more information on this map?"
   ]
  },
  {
   "cell_type": "code",
   "execution_count": null,
   "metadata": {
    "scrolled": false,
    "slideshow": {
     "slide_type": "subslide"
    }
   },
   "outputs": [],
   "source": [
    "# use all public schools as the data\n",
    "data <- schools[schools$School.Level %in% c(\"Elementary School\", \"Middle School\", \"High School\"), ]\n",
    "\n",
    "# map latitude to the y axis and longitude to the x axis\n",
    "# commented are some aesthetics to add\n",
    "aesthetic <- aes(y=Latitude, x=Longitude) #, shape=School.Level, color=White/Total, size=Total)\n",
    "\n",
    "# races\n",
    "# White\n",
    "# Black.or.African.American\n",
    "# Hispanic.Latino\n",
    "# Asian\n",
    "# Native.Hawaiian.or.Other.Pacific.Islander\n",
    "# American.Indian.or.Alaska.Native\n",
    "\n",
    "geometry <- geom_point()\n",
    "\n",
    "ggplot(data, aesthetic) + \n",
    "map_plot + \n",
    "geometry + \n",
    "# scale_colour_gradient(low = \"blue\", high = \"red\") + # uncomment to change the color gradient\n",
    "# ggtitle(\"How segregated is Nashville?\") + \n",
    "coord_fixed()"
   ]
  },
  {
   "cell_type": "markdown",
   "metadata": {
    "slideshow": {
     "slide_type": "slide"
    }
   },
   "source": [
    "Are students more segregated in elementary school than high school?"
   ]
  },
  {
   "cell_type": "code",
   "execution_count": null,
   "metadata": {
    "scrolled": false,
    "slideshow": {
     "slide_type": "subslide"
    }
   },
   "outputs": [],
   "source": [
    "race_names <- c(\n",
    "    \"White\",\n",
    "    \"Black.or.African.American\",\n",
    "    \"Hispanic.Latino\",\n",
    "    \"Asian\",\n",
    "    \"Native.Hawaiian.or.Other.Pacific.Islander\",\n",
    "    \"American.Indian.or.Alaska.Native\"\n",
    ")\n",
    "\n",
    "getFrameForRace <- function(race_name) {\n",
    "    race_counts <- data.frame(schools[ , c(\"School.Level\", \"School.Name\", \"School.ID\", race_name, \"Total\")])\n",
    "    race_counts$Race <- race_name\n",
    "    race_counts$Fraction <- race_counts[ , race_name]/race_counts$Total\n",
    "    names(race_counts)[names(race_counts) == race_name] <- \"Students\"\n",
    "    return(race_counts)\n",
    "}\n",
    "\n",
    "race_info <- Reduce(rbind, lapply(race_names, getFrameForRace))\n",
    "\n",
    "# make sure the grades are plotted in the correct order\n",
    "race_info$Race <- factor(race_info$Race, levels = race_names)\n",
    "\n",
    "# order by fraction of <race_to_order_by> students\n",
    "race_to_order_by <- \"White\"\n",
    "school_names <- schools[,c(\"School.Name\", race_to_order_by, \"Total\")]\n",
    "school_names$Fraction <- school_names[,race_to_order_by]/school_names$Total\n",
    "school_names <- school_names[order(-school_names[, \"Fraction\"]), ]\n",
    "school_names <- school_names$School.Name\n",
    "\n",
    "race_info$School.Name <- factor(race_info$School.Name, levels = school_names)\n",
    "\n",
    "# head(schools)\n",
    "head(race_info)"
   ]
  },
  {
   "cell_type": "code",
   "execution_count": null,
   "metadata": {
    "scrolled": false,
    "slideshow": {
     "slide_type": "subslide"
    }
   },
   "outputs": [],
   "source": [
    "data <- race_info[race_info$School.Level %in% c(\"Elementary School\", \"Middle School\", \"High School\"), ]\n",
    "data <- data[complete.cases(data), ]\n",
    "aesthetic <- aes(x=School.Name, y=Fraction, fill=Race)#, width=Total/1800)\n",
    "geometry <- geom_bar(stat=\"identity\", position=\"stack\")\n",
    "\n",
    "ggplot(data, aesthetic) + geometry + \n",
    "# facet_grid( ~ School.Level) + \n",
    "# theme(axis.title.y=element_blank(),\n",
    "#         axis.text.y=element_blank(),\n",
    "#         axis.ticks.y=element_blank()) +\n",
    "coord_flip()"
   ]
  },
  {
   "cell_type": "markdown",
   "metadata": {
    "slideshow": {
     "slide_type": "slide"
    }
   },
   "source": [
    "# Closing Thoughts\n",
    "\n",
    "Even if you don't use R, the Grammar of Graphics is a useful framework for thinking about how to construct visualizations\n",
    "\n",
    "A lot of studies have been done on how accurately humans can read information encoded in various ways, such as color, length and angle. When building graphs, try to put the most important information on the easiest to read axis."
   ]
  }
 ],
 "metadata": {
  "kernelspec": {
   "display_name": "R",
   "language": "R",
   "name": "ir"
  },
  "language_info": {
   "codemirror_mode": "r",
   "file_extension": ".r",
   "mimetype": "text/x-r-source",
   "name": "R",
   "pygments_lexer": "r",
   "version": "3.5.1"
  }
 },
 "nbformat": 4,
 "nbformat_minor": 2
}
